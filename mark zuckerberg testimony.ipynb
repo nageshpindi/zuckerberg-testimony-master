{
 "cells": [
  {
   "cell_type": "code",
   "execution_count": 31,
   "metadata": {
    "collapsed": true
   },
   "outputs": [],
   "source": [
    "import pandas as pd\n",
    "import numpy as np\n",
    "import matplotlib.pyplot as plt\n",
    "%matplotlib inline\n",
    "import nltk.corpus as corpus\n",
    "import nltk"
   ]
  },
  {
   "cell_type": "code",
   "execution_count": 32,
   "metadata": {},
   "outputs": [],
   "source": [
    "data=pd.read_csv(\"mark.csv\")"
   ]
  },
  {
   "cell_type": "code",
   "execution_count": 33,
   "metadata": {},
   "outputs": [],
   "source": [
    "def get_count(x):\n",
    "    return len(nltk.word_tokenize(x))\n",
    "data['len']=data['Text'].map(get_count)"
   ]
  },
  {
   "cell_type": "code",
   "execution_count": 34,
   "metadata": {},
   "outputs": [
    {
     "data": {
      "text/html": [
       "<div>\n",
       "<style>\n",
       "    .dataframe thead tr:only-child th {\n",
       "        text-align: right;\n",
       "    }\n",
       "\n",
       "    .dataframe thead th {\n",
       "        text-align: left;\n",
       "    }\n",
       "\n",
       "    .dataframe tbody tr th {\n",
       "        vertical-align: top;\n",
       "    }\n",
       "</style>\n",
       "<table border=\"1\" class=\"dataframe\">\n",
       "  <thead>\n",
       "    <tr style=\"text-align: right;\">\n",
       "      <th></th>\n",
       "      <th>Person</th>\n",
       "      <th>Text</th>\n",
       "      <th>len</th>\n",
       "    </tr>\n",
       "  </thead>\n",
       "  <tbody>\n",
       "    <tr>\n",
       "      <th>0</th>\n",
       "      <td>GRASSLEY:</td>\n",
       "      <td>I'll start with you.\\r\\n\\r\\nFacebook handles ...</td>\n",
       "      <td>139</td>\n",
       "    </tr>\n",
       "    <tr>\n",
       "      <th>1</th>\n",
       "      <td>ZUCKERBERG:</td>\n",
       "      <td>Mr. Chairman, thank you.\\r\\n\\r\\nAs I mentione...</td>\n",
       "      <td>166</td>\n",
       "    </tr>\n",
       "    <tr>\n",
       "      <th>2</th>\n",
       "      <td>GRASSLEY:</td>\n",
       "      <td>OK (ph).\\r\\n\\r\\nHave you ever required an aud...</td>\n",
       "      <td>29</td>\n",
       "    </tr>\n",
       "    <tr>\n",
       "      <th>3</th>\n",
       "      <td>ZUCKERBERG:</td>\n",
       "      <td>Mr. Chairman, yes we have. I don't have the e...</td>\n",
       "      <td>143</td>\n",
       "    </tr>\n",
       "    <tr>\n",
       "      <th>4</th>\n",
       "      <td>GRASSLEY:</td>\n",
       "      <td>I was going to assume that, sitting here toda...</td>\n",
       "      <td>55</td>\n",
       "    </tr>\n",
       "  </tbody>\n",
       "</table>\n",
       "</div>"
      ],
      "text/plain": [
       "        Person                                               Text  len\n",
       "0    GRASSLEY:   I'll start with you.\\r\\n\\r\\nFacebook handles ...  139\n",
       "1  ZUCKERBERG:   Mr. Chairman, thank you.\\r\\n\\r\\nAs I mentione...  166\n",
       "2    GRASSLEY:   OK (ph).\\r\\n\\r\\nHave you ever required an aud...   29\n",
       "3  ZUCKERBERG:   Mr. Chairman, yes we have. I don't have the e...  143\n",
       "4    GRASSLEY:   I was going to assume that, sitting here toda...   55"
      ]
     },
     "execution_count": 34,
     "metadata": {},
     "output_type": "execute_result"
    }
   ],
   "source": [
    "data.head()"
   ]
  },
  {
   "cell_type": "markdown",
   "metadata": {},
   "source": [
    "# marks response"
   ]
  },
  {
   "cell_type": "code",
   "execution_count": 35,
   "metadata": {},
   "outputs": [
    {
     "name": "stdout",
     "output_type": "stream",
     "text": [
      "The total words spoken by Mark were 19959 words\n",
      "The average length of his response weas 51.71 words\n",
      "The maximum length of Mark's response was 524 words\n"
     ]
    }
   ],
   "source": [
    "print(\"The total words spoken by Mark were {} words\".format(data.query(\"Person=='ZUCKERBERG:'\")['len'].sum()))\n",
    "print(\"The average length of his response weas {} words\".format(round(data.query(\"Person=='ZUCKERBERG:'\")['len'].mean(),2)))\n",
    "print(\"The maximum length of Mark's response was {} words\".format(data.query(\"Person=='ZUCKERBERG:'\")['len'].max()))"
   ]
  },
  {
   "cell_type": "markdown",
   "metadata": {},
   "source": [
    "# which senator spoke most"
   ]
  },
  {
   "cell_type": "code",
   "execution_count": 37,
   "metadata": {},
   "outputs": [
    {
     "data": {
      "text/plain": [
       "Text(0.5,0,'Count')"
      ]
     },
     "execution_count": 37,
     "metadata": {},
     "output_type": "execute_result"
    },
    {
     "data": {
      "image/png": "[encoded data removed]",
      "text/plain": [
       "<matplotlib.figure.Figure at 0x7f3c07099588>"
      ]
     },
     "metadata": {},
     "output_type": "display_data"
    }
   ],
   "source": [
    "data.query(\"Person !='ZUCKERBERG:'\").groupby(\"Person\").sum().rename(columns={'len':'Total Words'}).sort_values(\"Total Words\",ascending=False).head(20).plot(kind=\"barh\",colormap=\"Set2\",figsize=(8,8))\n",
    "plt.title(\"Total Words Spoken\",fontsize=30)\n",
    "plt.ylabel(\"Senator\",fontsize=25)\n",
    "plt.yticks(fontsize=15)\n",
    "plt.xlabel(\"Count\",fontsize=15)"
   ]
  },
  {
   "cell_type": "code",
   "execution_count": 38,
   "metadata": {
    "collapsed": true
   },
   "outputs": [],
   "source": [
    "##  Most commonly used words by Mark\n",
    "from sklearn.feature_extraction import text\n",
    "def get_imp(bow,mf,ngram):\n",
    "    tfidf=text.CountVectorizer(bow,ngram_range=(ngram,ngram),max_features=mf,stop_words='english')\n",
    "    matrix=tfidf.fit_transform(bow)\n",
    "    return pd.Series(np.array(matrix.sum(axis=0))[0],index=tfidf.get_feature_names()).sort_values(ascending=False).head(100)"
   ]
  },
  {
   "cell_type": "markdown",
   "metadata": {},
   "source": [
    "# most common bigrams"
   ]
  },
  {
   "cell_type": "code",
   "execution_count": 39,
   "metadata": {},
   "outputs": [
    {
     "data": {
      "text/plain": [
       "make sure              31\n",
       "senator think          29\n",
       "yes senator            18\n",
       "cambridge analytica    17\n",
       "senator yes            14\n",
       "senator don            12\n",
       "don know               11\n",
       "making sure            11\n",
       "team follow            11\n",
       "app developer          10\n",
       "dtype: int64"
      ]
     },
     "execution_count": 39,
     "metadata": {},
     "output_type": "execute_result"
    }
   ],
   "source": [
    "mark=data[data['Person']==\"ZUCKERBERG:\"]['Text'].tolist()\n",
    "get_imp(mark,mf=5000,ngram=2).head(10)\n"
   ]
  },
  {
   "cell_type": "markdown",
   "metadata": {},
   "source": [
    "# most common trigrams"
   ]
  },
  {
   "cell_type": "code",
   "execution_count": 40,
   "metadata": {},
   "outputs": [
    {
     "data": {
      "text/plain": [
       "want make sure                    8\n",
       "senator don know                  5\n",
       "security content review           5\n",
       "20 000 people                     5\n",
       "going 20 000                      4\n",
       "app access large                  4\n",
       "working security content          4\n",
       "foreign interference elections    4\n",
       "don sell data                     3\n",
       "single app access                 3\n",
       "dtype: int64"
      ]
     },
     "execution_count": 40,
     "metadata": {},
     "output_type": "execute_result"
    }
   ],
   "source": [
    "get_imp(mark,mf=5000,ngram=3).head(10)"
   ]
  },
  {
   "cell_type": "code",
   "execution_count": 41,
   "metadata": {
    "collapsed": true
   },
   "outputs": [],
   "source": [
    "def get_imp_tf(bow,mf,ngram):\n",
    "    tfidf=text.TfidfVectorizer(bow,ngram_range=(ngram,ngram),max_features=mf,stop_words='english')\n",
    "    matrix=tfidf.fit_transform(bow)\n",
    "    return pd.Series(np.array(matrix.sum(axis=0))[0],index=tfidf.get_feature_names()).sort_values(ascending=False).head(100)"
   ]
  },
  {
   "cell_type": "markdown",
   "metadata": {},
   "source": [
    "# common bigrams"
   ]
  },
  {
   "cell_type": "code",
   "execution_count": 42,
   "metadata": {},
   "outputs": [
    {
     "data": {
      "text/plain": [
       "senator yes            4.427712\n",
       "senator think          4.278710\n",
       "yes senator            4.127852\n",
       "senator believe        3.834089\n",
       "make sure              3.620440\n",
       "senator don            2.736966\n",
       "team follow            2.645200\n",
       "don know               2.490640\n",
       "cambridge analytica    2.239803\n",
       "senator know           2.201193\n",
       "dtype: float64"
      ]
     },
     "execution_count": 42,
     "metadata": {},
     "output_type": "execute_result"
    }
   ],
   "source": [
    "get_imp_tf(mark,mf=5000,ngram=2).head(10)\n"
   ]
  },
  {
   "cell_type": "markdown",
   "metadata": {},
   "source": [
    "# common trigrams"
   ]
  },
  {
   "cell_type": "code",
   "execution_count": 43,
   "metadata": {},
   "outputs": [
    {
     "data": {
      "text/plain": [
       "senator don know              1.772555\n",
       "want make sure                1.681610\n",
       "forward having team           1.172937\n",
       "look forward having           1.172937\n",
       "senator look forward          1.129662\n",
       "team follow information       1.110503\n",
       "believe government ability    1.000000\n",
       "commit political view         1.000000\n",
       "certainly want case           1.000000\n",
       "options yes cortez            1.000000\n",
       "dtype: float64"
      ]
     },
     "execution_count": 43,
     "metadata": {},
     "output_type": "execute_result"
    }
   ],
   "source": [
    "get_imp_tf(mark,mf=5000,ngram=3).head(10)"
   ]
  }
 ],
 "metadata": {
  "kernelspec": {
   "display_name": "Python 3",
   "language": "python",
   "name": "python3"
  },
  "language_info": {
   "codemirror_mode": {
    "name": "ipython",
    "version": 3
   },
   "file_extension": ".py",
   "mimetype": "text/x-python",
   "name": "python",
   "nbconvert_exporter": "python",
   "pygments_lexer": "ipython3",
   "version": "3.6.3"
  }
 },
 "nbformat": 4,
 "nbformat_minor": 2
}
